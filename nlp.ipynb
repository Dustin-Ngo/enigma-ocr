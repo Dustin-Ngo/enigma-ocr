{
 "cells": [
  {
   "cell_type": "code",
   "execution_count": 25,
   "metadata": {},
   "outputs": [],
   "source": [
    "import functools\n",
    "import math\n",
    "import re\n",
    "from tkinter import *\n",
    "from tkinter import ttk"
   ]
  },
  {
   "cell_type": "code",
   "execution_count": 26,
   "metadata": {},
   "outputs": [],
   "source": [
    "# Reads in Norvig's Dataset of Words\n",
    "with open('norvig_dataset.txt', 'r') as file:\n",
    "    words = file.read()\n",
    "    \n",
    "word_list = re.split('[\\t\\n]', words)\n",
    "word_dict = {}\n",
    "total_count = 0\n",
    "\n",
    "for i in range(len(word_list) - 1):\n",
    "    if i % 2 == 0:\n",
    "        count = int(word_list[i + 1])\n",
    "        word_dict[word_list[i]] = count\n",
    "        total_count += count\n",
    "\n",
    "\n",
    "for i in word_dict:\n",
    "    word_dict[i] = word_dict[i] / total_count\n",
    "    \n",
    "    \n",
    "def word_prob(word):\n",
    "    \"\"\"\n",
    "    Returns the probability that a given word is used based on Norvig's dataset.\n",
    "    \"\"\"\n",
    "    return word_dict[word] if word in word_dict else (1/(total_count * 10**(len(word) - 2)))   "
   ]
  },
  {
   "cell_type": "code",
   "execution_count": 27,
   "metadata": {},
   "outputs": [
    {
     "name": "stdout",
     "output_type": "stream",
     "text": [
      "[['h', 'i', 'hello'], ['hih', 'ello'], ['hihello']]\n",
      "['howdy', 'world']\n"
     ]
    }
   ],
   "source": [
    "import functools\n",
    "import math\n",
    "\n",
    "\n",
    "def seq_prob(words):\n",
    "    \"\"\"\n",
    "    Returns the probability of a given sequence of words\n",
    "    \"\"\"\n",
    "    \n",
    "    result = 0\n",
    "    for word in words:\n",
    "        result += math.log10(word_prob(word))\n",
    "    return result\n",
    "\n",
    "\n",
    "def all_pairs(word):\n",
    "    \"\"\"\n",
    "    Splits word into every in-order pairs of two different words.\n",
    "    \n",
    "    Ex: \"hello\" returns [('h', 'ello'), ('he', 'llo'), ('hel', 'lo'), ('hell', 'o'), ('hello', '')]\n",
    "    \"\"\"\n",
    "    pairs = []\n",
    "    \n",
    "    for i in range(len(word)):\n",
    "        pairs = pairs + [(word[:i+1], word[i+1:])]\n",
    "        \n",
    "    return pairs\n",
    "\n",
    "\n",
    "def word_segment(word):\n",
    "    \"\"\"\n",
    "    Gives the most likely segmentation of a given string without spaces\n",
    "    \n",
    "    For example, \"thebestsegment\" returns ['the', 'best', 'segment']\n",
    "    \"\"\"\n",
    "    \n",
    "    if not word: return []\n",
    "    \n",
    "    segmentations = []\n",
    "    for first, rest in all_pairs(word):\n",
    "        segment = [first] + word_segment(rest)\n",
    "        segmentations.append(segment)\n",
    "    #print(segmentations)\n",
    "        \n",
    "    return max(segmentations, key = seq_prob)\n",
    "\n",
    "def word_segment3(word):\n",
    "    \"\"\"\n",
    "    Returns the next three most likely segmentations of a given string without spaces\n",
    "\n",
    "    For example, \"thebestsegment\" returns [['the', 'best', 'segment'], ['the', 'bestsegment'], ['thebest', 'segment']]\n",
    "    \"\"\"\n",
    "\n",
    "    if not word:\n",
    "        return []\n",
    "\n",
    "    segmentations = []\n",
    "    for first, rest in all_pairs(word):\n",
    "        segment = [first] + word_segment(rest)\n",
    "        segmentations.append(segment)\n",
    "\n",
    "    sorted_segmentations = sorted(segmentations, key=seq_prob, reverse=True)\n",
    "    return sorted_segmentations[1:4]\n",
    "\n",
    "        \n",
    "\n",
    "def word_seg_as_string(word):\n",
    "    \"\"\"\n",
    "    Returns the correct word segmentation as a string\n",
    "    \"\"\"\n",
    "    seg = word_segment(word)\n",
    "    s = \"\"\n",
    "    \n",
    "    for w in seg:\n",
    "        s += \" \" + w\n",
    "        \n",
    "    return s[1:]\n",
    "\n",
    "print(word_segment3(\"hihello\"))\n",
    "\n",
    "def word_seg_as_string3(word):\n",
    "    \"\"\"\n",
    "    Returns the correct word segmentation as a string\n",
    "    \"\"\"\n",
    "    segs = word_segment3(word)\n",
    "    words = []\n",
    "    \n",
    "    for seg in segs:\n",
    "        s = \"\"\n",
    "        for w in seg:\n",
    "            s += \" \" + w\n",
    "        words += [s[1:]]\n",
    "\n",
    "    return words\n",
    "\n",
    "\n",
    "\n",
    "print(word_segment(\"howdyworld\"))"
   ]
  },
  {
   "cell_type": "code",
   "execution_count": 28,
   "metadata": {},
   "outputs": [],
   "source": [
    "#Create an instance of tkinter frame or window\n",
    "win= Tk()\n",
    "\n",
    "#Set the geometry of tkinter frame\n",
    "win.geometry(\"750x250\")\n",
    "\n",
    "chars = \"howdyworld\"\n",
    "top = word_seg_as_string(chars)\n",
    "top3 = word_seg_as_string3(chars)\n",
    "\n",
    "txt = \"Most probable interpretation: \" + top + \"\\n\" + \"Other Possible Interpretations: \" + top3[0] + \", \" + \"\\n\" + top3[1] + \", \" + top3[2]\n",
    "\n",
    "\n",
    "#Create a label\n",
    "Label(win, text= txt, font= ('Helvetica 17 bold')).pack(pady=30)\n",
    "\n",
    "\n",
    "win.mainloop()"
   ]
  },
  {
   "cell_type": "code",
   "execution_count": 29,
   "metadata": {},
   "outputs": [
    {
     "data": {
      "text/plain": [
       "'howdy world'"
      ]
     },
     "execution_count": 29,
     "metadata": {},
     "output_type": "execute_result"
    }
   ],
   "source": [
    "output = ' '.join([str(element) for element in word_segment(\"howdyworld\")])\n",
    "output"
   ]
  }
 ],
 "metadata": {
  "kernelspec": {
   "display_name": "Python 3",
   "language": "python",
   "name": "python3"
  },
  "language_info": {
   "codemirror_mode": {
    "name": "ipython",
    "version": 3
   },
   "file_extension": ".py",
   "mimetype": "text/x-python",
   "name": "python",
   "nbconvert_exporter": "python",
   "pygments_lexer": "ipython3",
   "version": "3.7.4"
  }
 },
 "nbformat": 4,
 "nbformat_minor": 2
}
