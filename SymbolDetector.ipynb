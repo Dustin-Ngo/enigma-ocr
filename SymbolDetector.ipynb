{
 "cells": [
  {
   "cell_type": "code",
   "execution_count": 499,
   "metadata": {},
   "outputs": [],
   "source": [
    "import tensorflow as tf\n",
    "import cv2\n",
    "import numpy as np\n",
    "import matplotlib.pyplot as plt\n",
    "import import_ipynb\n",
    "import Preprocessing as pr\n",
    "from PIL import Image, ImageOps\n",
    "from skimage import color"
   ]
  },
  {
   "cell_type": "code",
   "execution_count": 500,
   "metadata": {},
   "outputs": [
    {
     "name": "stdout",
     "output_type": "stream",
     "text": [
      "WARNING:tensorflow:No training configuration found in save file, so the model was *not* compiled. Compile it manually.\n"
     ]
    }
   ],
   "source": [
    "#IF INPUT IS JUST NUMBERS: DIGITMODEL\n",
    "#IF INPUT IS JUST LETTERS: LETTERMODEL\n",
    "#IF INPUT CONTAINS BOTH: Model\n",
    "modelname = 'LETTERMODEL'\n",
    "model = tf.keras.models.load_model(modelname)"
   ]
  },
  {
   "cell_type": "code",
   "execution_count": 501,
   "metadata": {},
   "outputs": [],
   "source": [
    "def find_letters(image_path):\n",
    "    # Load the image and convert it to grayscale\n",
    "    img = cv2.imread(image_path)\n",
    "    img = cv2.resize(img,(300,300))\n",
    "    gray = cv2.cvtColor(img, cv2.COLOR_BGR2GRAY)\n",
    "\n",
    "    # Threshold the image to create a binary image of just the letters\n",
    "    _, thresh = cv2.threshold(gray, 0, 255, cv2.THRESH_BINARY_INV+cv2.THRESH_OTSU)\n",
    "\n",
    "    # Find the contours in the image\n",
    "    contours, _ = cv2.findContours(thresh, cv2.RETR_EXTERNAL, cv2.CHAIN_APPROX_SIMPLE)\n",
    "\n",
    "    # Sort the contours left-to-right, top-to-bottom\n",
    "    contours = sorted(contours, key=lambda ctr: cv2.boundingRect(ctr)[0])\n",
    "    contours = sorted(contours, key=lambda ctr: cv2.boundingRect(ctr)[1])\n",
    "    \n",
    "    return contours, img"
   ]
  },
  {
   "cell_type": "code",
   "execution_count": 502,
   "metadata": {},
   "outputs": [],
   "source": [
    "#img = cv2.imread('./Test Data/HelloWorld.png')\n",
    "contours, img = find_letters('./Test Data/helloworld.png')\n",
    "# Create a copy of the original image with just the first letter isolated\n",
    "#contours[index] is the one that shows\n",
    "#hlleo wrold\n",
    "#sort them by x value but first partition by y\n",
    "lines = []\n",
    "bp = 0\n",
    "if len(contours) > 1:\n",
    "  diffs = []\n",
    "  for x in range(1,len(contours)):\n",
    "    #idea if the difference is a certain percent higher than the average of all the others then new line\n",
    "    diffs.append(contours[x][0][0][1] - contours[x-1][0][0][1])\n",
    "    if contours[x][0][0][1] - contours[x-1][0][0][1] > 3*np.mean(diffs):\n",
    "      lines.append(contours[bp:x])\n",
    "      bp = x\n",
    "  lines.append(contours[bp:])\n",
    "  for l in lines:\n",
    "      l.sort(key=lambda l: l[0][0][0])\n",
    "\n"
   ]
  },
  {
   "cell_type": "code",
   "execution_count": 503,
   "metadata": {},
   "outputs": [
    {
     "data": {
      "image/png": "[encoded data removed]",
      "text/plain": [
       "<Figure size 432x288 with 1 Axes>"
      ]
     },
     "metadata": {
      "needs_background": "light"
     },
     "output_type": "display_data"
    },
    {
     "data": {
      "image/png": "[encoded data removed]",
      "text/plain": [
       "<Figure size 432x288 with 1 Axes>"
      ]
     },
     "metadata": {
      "needs_background": "light"
     },
     "output_type": "display_data"
    },
    {
     "name": "stdout",
     "output_type": "stream",
     "text": [
      "1/1 [==============================] - 0s 151ms/step\n"
     ]
    },
    {
     "data": {
      "text/plain": [
       "'h'"
      ]
     },
     "execution_count": 503,
     "metadata": {},
     "output_type": "execute_result"
    }
   ],
   "source": [
    "#This Block is for the demo\n",
    "#lines[line number][letter in the line]\n",
    "x, y, w, h = cv2.boundingRect(lines[0][0])\n",
    "letter_img = img[y:y+h, x:x+w]\n",
    "\n",
    "# Display the result using Matplotlib\n",
    "plt.imshow(letter_img[:,:,::-1])\n",
    "plt.show()\n",
    "\n",
    "imgh = letter_img[:,:,::-1]\n",
    "imgh = Image.fromarray(imgh)\n",
    "#adds white border around symbol\n",
    "imgh = ImageOps.expand(imgh, border=8, fill=(255,255,255))\n",
    "\n",
    "plt.imshow(imgh)\n",
    "plt.show()\n",
    "\n",
    "imgh = pr.preprocess(imgh)\n",
    "y_pred = model.predict(imgh)\n",
    "y_pred_class = np.argmax(y_pred, axis=-1)\n",
    "pr.predDict(y_pred_class[0])\n"
   ]
  },
  {
   "cell_type": "code",
   "execution_count": 504,
   "metadata": {},
   "outputs": [
    {
     "name": "stdout",
     "output_type": "stream",
     "text": [
      "1/1 [==============================] - 0s 45ms/step\n",
      "1/1 [==============================] - 0s 49ms/step\n",
      "1/1 [==============================] - 0s 53ms/step\n",
      "1/1 [==============================] - 0s 34ms/step\n",
      "1/1 [==============================] - 0s 27ms/step\n",
      "1/1 [==============================] - 0s 30ms/step\n",
      "1/1 [==============================] - 0s 34ms/step\n",
      "1/1 [==============================] - 0s 34ms/step\n",
      "1/1 [==============================] - 0s 22ms/step\n",
      "1/1 [==============================] - 0s 24ms/step\n"
     ]
    }
   ],
   "source": [
    "predString = []\n",
    "for line in range(len(lines)):\n",
    "  for letter in range(len(lines[line])):\n",
    "    x, y, w, h = cv2.boundingRect(lines[line][letter])\n",
    "    letter_img = img[y:y+h, x:x+w]\n",
    "    imgh = letter_img[:,:,::-1]\n",
    "    imgh = Image.fromarray(imgh)\n",
    "    imgh = ImageOps.expand(imgh, border=8, fill=(255,255,255))\n",
    "    imgh = pr.preprocess(imgh)\n",
    "    y_pred = model.predict(imgh)\n",
    "    y_pred_class = np.argmax(y_pred, axis=-1)\n",
    "    predString.append(pr.predDict(y_pred_class[0]))"
   ]
  },
  {
   "cell_type": "code",
   "execution_count": 505,
   "metadata": {},
   "outputs": [
    {
     "data": {
      "text/plain": [
       "'helloworld'"
      ]
     },
     "execution_count": 505,
     "metadata": {},
     "output_type": "execute_result"
    }
   ],
   "source": [
    "output = ''.join([str(element) for element in predString])\n",
    "output = output.lower()\n",
    "output"
   ]
  }
 ],
 "metadata": {
  "kernelspec": {
   "display_name": "base",
   "language": "python",
   "name": "python3"
  },
  "language_info": {
   "codemirror_mode": {
    "name": "ipython",
    "version": 3
   },
   "file_extension": ".py",
   "mimetype": "text/x-python",
   "name": "python",
   "nbconvert_exporter": "python",
   "pygments_lexer": "ipython3",
   "version": "3.7.4"
  },
  "orig_nbformat": 4
 },
 "nbformat": 4,
 "nbformat_minor": 2
}
