import gzip
import numpy as np
import idx2numpy
import matplotlib.pyplot as plt

file = gzip.open('train-images-idx3-ubyte.gz', 'r')
array = idx2numpy.convert_from_file(file)

plt.imshow(array[4], cmap=plt.cm.binary)
